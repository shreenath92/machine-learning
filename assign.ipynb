{
 "cells": [
  {
   "cell_type": "code",
   "execution_count": 14,
   "metadata": {},
   "outputs": [
    {
     "name": "stdout",
     "output_type": "stream",
     "text": [
      "<class 'pandas.core.frame.DataFrame'>\n",
      "RangeIndex: 1000 entries, 0 to 999\n",
      "Data columns (total 8 columns):\n",
      " #   Column                    Non-Null Count  Dtype \n",
      "---  ------                    --------------  ----- \n",
      " 0   NPI                       1000 non-null   int64 \n",
      " 1   State                     1000 non-null   object\n",
      " 2   Login Time                1000 non-null   object\n",
      " 3   Logout Time               1000 non-null   object\n",
      " 4   Usage Time (mins)         1000 non-null   int64 \n",
      " 5   Region                    1000 non-null   object\n",
      " 6   Speciality                1000 non-null   object\n",
      " 7   Count of Survey Attempts  1000 non-null   int64 \n",
      "dtypes: int64(3), object(5)\n",
      "memory usage: 62.6+ KB\n"
     ]
    },
    {
     "data": {
      "text/plain": [
       "(None,\n",
       "           NPI State           Login Time          Logout Time  \\\n",
       " 0  1000000000    NY  2025-03-08 06:09:00  2025-03-08 06:28:00   \n",
       " 1  1000000001    MI  2025-03-08 12:28:00  2025-03-08 13:10:00   \n",
       " 2  1000000002    CA  2025-03-08 15:11:00  2025-03-08 15:37:00   \n",
       " 3  1000000003    TX  2025-03-08 14:17:00  2025-03-08 15:36:00   \n",
       " 4  1000000004    GA  2025-03-08 15:59:00  2025-03-08 17:37:00   \n",
       " \n",
       "    Usage Time (mins)     Region   Speciality  Count of Survey Attempts  \n",
       " 0                 19  Northeast   Cardiology                         3  \n",
       " 1                 42    Midwest     Oncology                         5  \n",
       " 2                 26       West     Oncology                         8  \n",
       " 3                 79  Northeast  Orthopedics                         9  \n",
       " 4                 98       West     Oncology                         0  )"
      ]
     },
     "execution_count": 14,
     "metadata": {},
     "output_type": "execute_result"
    }
   ],
   "source": [
    "import pandas as pd\n",
    "csv_file_path = \"dummy_npi_data.xlsx - Dataset.csv\"\n",
    "df = pd.read_csv(csv_file_path)\n",
    "\n",
    "\n",
    "df.info(), df.head()"
   ]
  },
  {
   "cell_type": "code",
   "execution_count": 15,
   "metadata": {},
   "outputs": [],
   "source": [
    "df['Login Time'] = pd.to_datetime(df['Login Time'], errors='coerce')\n",
    "df['Login Hour'] = df['Login Time'].dt.hour"
   ]
  },
  {
   "cell_type": "code",
   "execution_count": 16,
   "metadata": {},
   "outputs": [
    {
     "data": {
      "text/plain": [
       "Count of Survey Attempts    1.000000\n",
       "Usage Time (mins)           0.008235\n",
       "Login Hour                 -0.009265\n",
       "Logout Hour                -0.012885\n",
       "NPI                        -0.031769\n",
       "Name: Count of Survey Attempts, dtype: float64"
      ]
     },
     "execution_count": 16,
     "metadata": {},
     "output_type": "execute_result"
    }
   ],
   "source": [
    "\n",
    "df['Logout Time'] = pd.to_datetime(df['Logout Time'], errors='coerce')\n",
    "df['Logout Hour'] = df['Logout Time'].dt.hour\n",
    "df_corr = df.drop(columns=['Login Time', 'Logout Time'])\n",
    "df_corr.corr(numeric_only=True)['Count of Survey Attempts'].sort_values(ascending=False)\n"
   ]
  },
  {
   "cell_type": "code",
   "execution_count": 17,
   "metadata": {},
   "outputs": [
    {
     "data": {
      "text/plain": [
       "0.89"
      ]
     },
     "execution_count": 17,
     "metadata": {},
     "output_type": "execute_result"
    }
   ],
   "source": [
    "from sklearn.model_selection import train_test_split\n",
    "from sklearn.ensemble import RandomForestClassifier\n",
    "from sklearn.preprocessing import LabelEncoder\n",
    "from sklearn.metrics import accuracy_score\n",
    "\n",
    "# Encode categorical features\n",
    "label_encoders = {}\n",
    "for col in ['State', 'Region', 'Speciality']:\n",
    "    le = LabelEncoder()\n",
    "    df[col] = le.fit_transform(df[col])\n",
    "    label_encoders[col] = le\n",
    "\n",
    "# Define features and target\n",
    "X = df[['Login Hour', 'State', 'Region', 'Speciality', 'Usage Time (mins)']]\n",
    "y = (df['Count of Survey Attempts'] > 0).astype(int)  # Convert to binary (0: No, 1: Yes)\n",
    "\n",
    "# Train-test split\n",
    "X_train, X_test, y_train, y_test = train_test_split(X, y, test_size=0.2, random_state=42)\n",
    "\n",
    "# Train model\n",
    "model = RandomForestClassifier(n_estimators=100, random_state=42)\n",
    "model.fit(X_train, y_train)\n",
    "\n",
    "# Evaluate model\n",
    "y_pred = model.predict(X_test)\n",
    "accuracy = accuracy_score(y_test, y_pred)\n",
    "accuracy\n"
   ]
  },
  {
   "cell_type": "code",
   "execution_count": 18,
   "metadata": {},
   "outputs": [
    {
     "data": {
      "text/plain": [
       "['random_forest_model.pkl']"
      ]
     },
     "execution_count": 18,
     "metadata": {},
     "output_type": "execute_result"
    }
   ],
   "source": [
    "import joblib\n",
    "\n",
    "# Save the trained model to a file\n",
    "model_file_path = \"random_forest_model.pkl\"\n",
    "joblib.dump(model, model_file_path)"
   ]
  },
  {
   "cell_type": "code",
   "execution_count": 19,
   "metadata": {},
   "outputs": [
    {
     "data": {
      "text/plain": [
       "['label_encoders.pkl']"
      ]
     },
     "execution_count": 19,
     "metadata": {},
     "output_type": "execute_result"
    }
   ],
   "source": [
    "\n",
    "label_encoders_file_path = 'label_encoders.pkl'\n",
    "joblib.dump(label_encoders, label_encoders_file_path)"
   ]
  },
  {
   "cell_type": "code",
   "execution_count": 20,
   "metadata": {},
   "outputs": [
    {
     "data": {
      "text/html": [
       "<div>\n",
       "<style scoped>\n",
       "    .dataframe tbody tr th:only-of-type {\n",
       "        vertical-align: middle;\n",
       "    }\n",
       "\n",
       "    .dataframe tbody tr th {\n",
       "        vertical-align: top;\n",
       "    }\n",
       "\n",
       "    .dataframe thead th {\n",
       "        text-align: right;\n",
       "    }\n",
       "</style>\n",
       "<table border=\"1\" class=\"dataframe\">\n",
       "  <thead>\n",
       "    <tr style=\"text-align: right;\">\n",
       "      <th></th>\n",
       "      <th>NPI</th>\n",
       "      <th>State</th>\n",
       "      <th>Login Time</th>\n",
       "      <th>Logout Time</th>\n",
       "      <th>Usage Time (mins)</th>\n",
       "      <th>Region</th>\n",
       "      <th>Speciality</th>\n",
       "      <th>Count of Survey Attempts</th>\n",
       "      <th>Login Hour</th>\n",
       "      <th>Logout Hour</th>\n",
       "    </tr>\n",
       "  </thead>\n",
       "  <tbody>\n",
       "    <tr>\n",
       "      <th>0</th>\n",
       "      <td>1000000000</td>\n",
       "      <td>6</td>\n",
       "      <td>2025-03-08 06:09:00</td>\n",
       "      <td>2025-03-08 06:28:00</td>\n",
       "      <td>19</td>\n",
       "      <td>1</td>\n",
       "      <td>0</td>\n",
       "      <td>3</td>\n",
       "      <td>6</td>\n",
       "      <td>6</td>\n",
       "    </tr>\n",
       "    <tr>\n",
       "      <th>1</th>\n",
       "      <td>1000000001</td>\n",
       "      <td>4</td>\n",
       "      <td>2025-03-08 12:28:00</td>\n",
       "      <td>2025-03-08 13:10:00</td>\n",
       "      <td>42</td>\n",
       "      <td>0</td>\n",
       "      <td>3</td>\n",
       "      <td>5</td>\n",
       "      <td>12</td>\n",
       "      <td>13</td>\n",
       "    </tr>\n",
       "    <tr>\n",
       "      <th>2</th>\n",
       "      <td>1000000002</td>\n",
       "      <td>0</td>\n",
       "      <td>2025-03-08 15:11:00</td>\n",
       "      <td>2025-03-08 15:37:00</td>\n",
       "      <td>26</td>\n",
       "      <td>3</td>\n",
       "      <td>3</td>\n",
       "      <td>8</td>\n",
       "      <td>15</td>\n",
       "      <td>15</td>\n",
       "    </tr>\n",
       "    <tr>\n",
       "      <th>3</th>\n",
       "      <td>1000000003</td>\n",
       "      <td>9</td>\n",
       "      <td>2025-03-08 14:17:00</td>\n",
       "      <td>2025-03-08 15:36:00</td>\n",
       "      <td>79</td>\n",
       "      <td>1</td>\n",
       "      <td>4</td>\n",
       "      <td>9</td>\n",
       "      <td>14</td>\n",
       "      <td>15</td>\n",
       "    </tr>\n",
       "    <tr>\n",
       "      <th>4</th>\n",
       "      <td>1000000004</td>\n",
       "      <td>2</td>\n",
       "      <td>2025-03-08 15:59:00</td>\n",
       "      <td>2025-03-08 17:37:00</td>\n",
       "      <td>98</td>\n",
       "      <td>3</td>\n",
       "      <td>3</td>\n",
       "      <td>0</td>\n",
       "      <td>15</td>\n",
       "      <td>17</td>\n",
       "    </tr>\n",
       "  </tbody>\n",
       "</table>\n",
       "</div>"
      ],
      "text/plain": [
       "          NPI  State          Login Time         Logout Time  \\\n",
       "0  1000000000      6 2025-03-08 06:09:00 2025-03-08 06:28:00   \n",
       "1  1000000001      4 2025-03-08 12:28:00 2025-03-08 13:10:00   \n",
       "2  1000000002      0 2025-03-08 15:11:00 2025-03-08 15:37:00   \n",
       "3  1000000003      9 2025-03-08 14:17:00 2025-03-08 15:36:00   \n",
       "4  1000000004      2 2025-03-08 15:59:00 2025-03-08 17:37:00   \n",
       "\n",
       "   Usage Time (mins)  Region  Speciality  Count of Survey Attempts  \\\n",
       "0                 19       1           0                         3   \n",
       "1                 42       0           3                         5   \n",
       "2                 26       3           3                         8   \n",
       "3                 79       1           4                         9   \n",
       "4                 98       3           3                         0   \n",
       "\n",
       "   Login Hour  Logout Hour  \n",
       "0           6            6  \n",
       "1          12           13  \n",
       "2          15           15  \n",
       "3          14           15  \n",
       "4          15           17  "
      ]
     },
     "execution_count": 20,
     "metadata": {},
     "output_type": "execute_result"
    }
   ],
   "source": [
    "df.head()"
   ]
  },
  {
   "cell_type": "code",
   "execution_count": null,
   "metadata": {},
   "outputs": [],
   "source": []
  }
 ],
 "metadata": {
  "kernelspec": {
   "display_name": "myenv",
   "language": "python",
   "name": "python3"
  },
  "language_info": {
   "codemirror_mode": {
    "name": "ipython",
    "version": 3
   },
   "file_extension": ".py",
   "mimetype": "text/x-python",
   "name": "python",
   "nbconvert_exporter": "python",
   "pygments_lexer": "ipython3",
   "version": "3.9.20"
  }
 },
 "nbformat": 4,
 "nbformat_minor": 2
}
